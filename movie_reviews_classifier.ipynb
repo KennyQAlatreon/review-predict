{
  "nbformat": 4,
  "nbformat_minor": 0,
  "metadata": {
    "colab": {
      "name": "movie reviews classifier.ipynb",
      "provenance": [],
      "collapsed_sections": [
        "yj4K4Nao8ldW"
      ]
    },
    "kernelspec": {
      "name": "python3",
      "display_name": "Python 3"
    },
    "language_info": {
      "name": "python"
    }
  },
  "cells": [
    {
      "cell_type": "markdown",
      "metadata": {
        "id": "8k_-Zsj-Ygxn"
      },
      "source": [
        "# GOOGLE DRIVE"
      ]
    },
    {
      "cell_type": "code",
      "metadata": {
        "id": "Xri6M_Qml-82"
      },
      "source": [
        "!gdown --id 1ORqSfvllaxTsfBX0g_YU9lpF3kTxYzMv"
      ],
      "execution_count": null,
      "outputs": []
    },
    {
      "cell_type": "code",
      "metadata": {
        "id": "hBFQvM9DYH8s"
      },
      "source": [
        "!gdown --id 1Q0Am8SP-kJL5Fv8ZurIiXSkmz86knhf3\n",
        "!unzip data.zip -d ./data\n",
        "!rm data.zip"
      ],
      "execution_count": null,
      "outputs": []
    },
    {
      "cell_type": "markdown",
      "metadata": {
        "id": "O9-CzwX0b8r4"
      },
      "source": [
        "# SETTINGS"
      ]
    },
    {
      "cell_type": "code",
      "metadata": {
        "colab": {
          "base_uri": "https://localhost:8080/"
        },
        "id": "QrBbhtL9b-Th",
        "outputId": "d793f1e7-aee6-438a-a8d5-6dfe51c5f29d"
      },
      "source": [
        "import os\n",
        "import re\n",
        "\n",
        "import nltk\n",
        "nltk.download('stopwords')\n",
        "nltk.download('wordnet')\n",
        "from bs4 import BeautifulSoup\n",
        "\n",
        "import pickle\n",
        "import numpy as np\n",
        "import pandas as pd\n",
        "import matplotlib.pyplot as plt\n",
        "import seaborn as sns\n",
        "\n",
        "import sklearn\n",
        "from sklearn.model_selection import train_test_split\n",
        "from sklearn.metrics import classification_report, mean_absolute_error\n",
        "from sklearn.feature_extraction.text import TfidfVectorizer\n",
        "from sklearn.linear_model import LogisticRegression\n",
        "from sklearn.linear_model import Ridge\n",
        "\n",
        "from tensorflow.keras import optimizers\n",
        "from tensorflow.keras.preprocessing.sequence import pad_sequences\n",
        "from tensorflow.keras.models import Sequential\n",
        "from tensorflow.keras.layers import *\n",
        "from tensorflow.keras.callbacks import LearningRateScheduler, ModelCheckpoint, EarlyStopping\n",
        "\n",
        "import gensim\n",
        "\n",
        "RANDOM_STATE = 42"
      ],
      "execution_count": null,
      "outputs": [
        {
          "output_type": "stream",
          "name": "stdout",
          "text": [
            "[nltk_data] Downloading package stopwords to /root/nltk_data...\n",
            "[nltk_data]   Unzipping corpora/stopwords.zip.\n",
            "[nltk_data] Downloading package wordnet to /root/nltk_data...\n",
            "[nltk_data]   Unzipping corpora/wordnet.zip.\n"
          ]
        }
      ]
    },
    {
      "cell_type": "markdown",
      "metadata": {
        "id": "SN7VceigZqeL"
      },
      "source": [
        "# DATA\n",
        "\n",
        "Объем данных составляет 50К, по положительным-отрицательным разделены поровну, по оценке они достаточно несбалансированы. Для модели разделим в долях по 70%-30%, обучение-тест соответсвенно. Словарь был взят из предоставленных данных.\n",
        "\n",
        "* Для оценки качества, модели определяющей настроение, будем использовать accuracy, так как данные сбалансированы.\n",
        "\n",
        "* Для оценки качества, модели предсказывающей оценку, будем использовать mean absolute error, так как эта метрика хорошо интерпретируется на то как юзер будет использовать модель."
      ]
    },
    {
      "cell_type": "markdown",
      "metadata": {
        "id": "i7aW9bL8OHzt"
      },
      "source": [
        "## Load Data"
      ]
    },
    {
      "cell_type": "code",
      "metadata": {
        "id": "HCPI1gSXmHGN"
      },
      "source": [
        "with open('imdb_vocab.txt', 'r') as f:\n",
        "  vocab = f.read().splitlines()"
      ],
      "execution_count": null,
      "outputs": []
    },
    {
      "cell_type": "code",
      "metadata": {
        "colab": {
          "base_uri": "https://localhost:8080/",
          "height": 564
        },
        "id": "RhsYBz0PZt7D",
        "outputId": "c4a568cd-6bc0-4c08-d036-960e7bc7b897"
      },
      "source": [
        "data_paths = ['./data/train/neg/', './data/test/neg/', './data/train/pos/', './data/test/pos/']\n",
        "sentences, score = [], []\n",
        "stopwords_list = nltk.corpus.stopwords.words(\"english\")\n",
        "le = nltk.stem.WordNetLemmatizer()\n",
        "\n",
        "for i, path in enumerate(data_paths):\n",
        "  for f_name in os.listdir(path):\n",
        "    score.append(int(f_name.split('_')[1].replace('.txt', '')))\n",
        "    with open(path + f_name, 'r') as f:\n",
        "      text = BeautifulSoup(f.read(), \"lxml\").get_text()\n",
        "      text = re.sub('[^a-zA-Z0-9]', ' ', text.lower().strip()).split()\n",
        "      text = [le.lemmatize(word) for word in text if word not in stopwords_list and len(word) > 3]\n",
        "      sentences.append(' '.join(text))\n",
        "\n",
        "df = pd.DataFrame({'sentences': sentences, 'score': score})\n",
        "\n",
        "print('количество текстов в выборке', len(df))\n",
        "print('распределение по положительным и отрицательным')\n",
        "labels = [0 if s < 5 else 1 for s in df['score']]\n",
        "plt.hist(labels)\n",
        "plt.show()\n",
        "print('распределение по оценке')\n",
        "plt.hist(df['score'], bins=10)\n",
        "plt.show()"
      ],
      "execution_count": null,
      "outputs": [
        {
          "output_type": "stream",
          "name": "stdout",
          "text": [
            "количество текстов в выборке 50000\n",
            "распределение по положительным и отрицательным\n"
          ]
        },
        {
          "output_type": "display_data",
          "data": {
            "image/png": "[encoded data removed]",
            "text/plain": [
              "<Figure size 432x288 with 1 Axes>"
            ]
          },
          "metadata": {
            "needs_background": "light"
          }
        },
        {
          "output_type": "stream",
          "name": "stdout",
          "text": [
            "распределение по оценке\n"
          ]
        },
        {
          "output_type": "display_data",
          "data": {
            "image/png": "[encoded data removed]",
            "text/plain": [
              "<Figure size 432x288 with 1 Axes>"
            ]
          },
          "metadata": {
            "needs_background": "light"
          }
        }
      ]
    },
    {
      "cell_type": "code",
      "metadata": {
        "id": "uOypcRP380xY"
      },
      "source": [
        "train_ind, test_ind = train_test_split(range(len(df)), test_size=0.3, random_state=RANDOM_STATE)\n",
        "\n",
        "y_train_score = df['score'][train_ind].values\n",
        "y_test_score = df['score'][test_ind].values\n",
        "\n",
        "y_train_sent = np.array(labels)[train_ind]\n",
        "y_test_sent = np.array(labels)[test_ind]"
      ],
      "execution_count": null,
      "outputs": []
    },
    {
      "cell_type": "markdown",
      "metadata": {
        "id": "juQskBbC8g5H"
      },
      "source": [
        "# MODELS\n",
        "\n",
        "В данной работе были использованы две модели.\n",
        "\n",
        "* Bag of Words с правилом векторизации TF-IDF, для предсказания были использованы модели машинного обучения\n",
        " * Для оценки настроения рецензии с использованием линейного классификатора точность составляет 89%\n",
        " * Для предсказания оценки рецензии, линейный классификатор дал MAE=1.43, результат линейной регрессивной модели составляет MAE=1.64. Если усреднить результаты двух моделей то можно уменьшить ошибку до MAE=1.38 (меньше на ~3.5%)\n",
        "\n",
        "* Word2Vec, для предсказания была использована рекуррентная нейросеть.\n",
        " * Для оценки настроения рецензии точность составляет 87%\n",
        " * Для предсказания оценки рецензии MAE=1.46. Если усреднить результаты всех моделей то можно уменьшить ошибку до MAE=1.29 (что еще меньше на ~7.5%)"
      ]
    },
    {
      "cell_type": "markdown",
      "metadata": {
        "id": "yj4K4Nao8ldW"
      },
      "source": [
        "## Bag of Words TF-IDF"
      ]
    },
    {
      "cell_type": "markdown",
      "metadata": {
        "id": "OB3AzOu7k9ps"
      },
      "source": [
        "### vectors"
      ]
    },
    {
      "cell_type": "code",
      "metadata": {
        "id": "k9biyyYy5mlQ"
      },
      "source": [
        "vect = TfidfVectorizer(vocabulary=vocab, max_df=0.8, min_df=4)\n",
        "\n",
        "x_train_bag = vect.fit_transform(df['sentences'][train_ind].values)\n",
        "x_test_bag = vect.fit_transform(df['sentences'][test_ind].values)"
      ],
      "execution_count": null,
      "outputs": []
    },
    {
      "cell_type": "markdown",
      "metadata": {
        "id": "JWSCNVluk_cp"
      },
      "source": [
        "### model method"
      ]
    },
    {
      "cell_type": "code",
      "metadata": {
        "id": "XhUgOJ52FmqG"
      },
      "source": [
        "def machine_train(estimators, x_train, y_train, x_test, y_test, mode='clf'):\n",
        "  model_arr = []\n",
        "  pred_arr = []\n",
        "  for i, est in enumerate(estimators):\n",
        "    est.fit(x_train, y_train)\n",
        "    model_arr.append(est)\n",
        "    \n",
        "    pred_train = est.predict(x_train)\n",
        "    pred_test = est.predict(x_test)\n",
        "    \n",
        "    if mode == 'clf':\n",
        "      print('результаты тренировочной выборки', '\\n', classification_report(y_train, pred_train))\n",
        "      print('\\nрезультаты тестовой выборки', '\\n', classification_report(y_test, pred_test))\n",
        "    \n",
        "    elif mode == 'reg':\n",
        "      pred_train = [1 if pred < 1 else (10 if pred > 10 else pred) for pred in pred_train]\n",
        "      pred_test = [1 if pred < 1 else (10 if pred > 10 else pred) for pred in pred_test]\n",
        "      print(f'средняя абсолютная ошибка тренировочной выборки ({i})', mean_absolute_error(pred_train, y_train))\n",
        "      print(f'средняя абсолютная ошибка тестовой выборки ({i})     ', mean_absolute_error(pred_test, y_test), '\\n')\n",
        "  \n",
        "    pred_arr.append(pred_test)\n",
        "  return model_arr, pred_arr"
      ],
      "execution_count": null,
      "outputs": []
    },
    {
      "cell_type": "markdown",
      "metadata": {
        "id": "45BCzVVBlCBn"
      },
      "source": [
        "### sentiment prediction"
      ]
    },
    {
      "cell_type": "code",
      "metadata": {
        "colab": {
          "base_uri": "https://localhost:8080/"
        },
        "id": "amMyBAKP-EWv",
        "outputId": "a814665a-71de-4428-f937-56ee8713fa42"
      },
      "source": [
        "print('Bag of Words TF-IDF')\n",
        "model_arr, pred_arr = machine_train([LogisticRegression(max_iter=1000, random_state=RANDOM_STATE)],\n",
        "                                    x_train_bag, y_train_sent, x_test_bag, y_test_sent)\n",
        "\n",
        "with open(\"machine_models_sent.pckl\", \"wb\") as f:\n",
        "  for model in model_arr:\n",
        "    pickle.dump(model, f)"
      ],
      "execution_count": null,
      "outputs": [
        {
          "output_type": "stream",
          "name": "stdout",
          "text": [
            "Bag of Words TF-IDF\n",
            "результаты тренировочной выборки \n",
            "               precision    recall  f1-score   support\n",
            "\n",
            "           0       0.94      0.92      0.93     17474\n",
            "           1       0.92      0.94      0.93     17526\n",
            "\n",
            "    accuracy                           0.93     35000\n",
            "   macro avg       0.93      0.93      0.93     35000\n",
            "weighted avg       0.93      0.93      0.93     35000\n",
            "\n",
            "\n",
            "результаты тестовой выборки \n",
            "               precision    recall  f1-score   support\n",
            "\n",
            "           0       0.90      0.88      0.89      7526\n",
            "           1       0.88      0.90      0.89      7474\n",
            "\n",
            "    accuracy                           0.89     15000\n",
            "   macro avg       0.89      0.89      0.89     15000\n",
            "weighted avg       0.89      0.89      0.89     15000\n",
            "\n"
          ]
        }
      ]
    },
    {
      "cell_type": "markdown",
      "metadata": {
        "id": "v0BixnyAlOp_"
      },
      "source": [
        "### score prediction"
      ]
    },
    {
      "cell_type": "code",
      "metadata": {
        "colab": {
          "base_uri": "https://localhost:8080/"
        },
        "id": "udV_ABs6-6_1",
        "outputId": "324b424d-0aa7-42de-ef01-856fa505326c"
      },
      "source": [
        "print('Bag of Words TF-IDF')\n",
        "model_arr, pred_score_arr = machine_train([LogisticRegression(max_iter=1000, random_state=RANDOM_STATE),\n",
        "                                           Ridge(random_state=RANDOM_STATE)],\n",
        "                                          x_train_bag, y_train_score, x_test_bag, y_test_score, mode='reg')\n",
        "\n",
        "print('общая средняя абсолютная ошибка: ', mean_absolute_error(np.median(pred_score_arr, axis=0), y_test_score))\n",
        "\n",
        "with open(\"machine_models_score.pckl\", \"wb\") as f:\n",
        "  for model in model_arr:\n",
        "    pickle.dump(model, f)"
      ],
      "execution_count": null,
      "outputs": [
        {
          "output_type": "stream",
          "name": "stdout",
          "text": [
            "Bag of Words TF-IDF\n",
            "средняя абсолютная ошибка тренировочной выборки (0) 0.8165714285714286\n",
            "средняя абсолютная ошибка тестовой выборки (0)      1.4276 \n",
            "\n",
            "средняя абсолютная ошибка тренировочной выборки (1) 1.2142767691114251\n",
            "средняя абсолютная ошибка тестовой выборки (1)      1.6371351672361605 \n",
            "\n",
            "общая средняя абсолютная ошибка:  1.3795868464530552\n"
          ]
        }
      ]
    },
    {
      "cell_type": "markdown",
      "metadata": {
        "id": "Xm2JxlID8qSV"
      },
      "source": [
        "## Word Embedding Word2Vec"
      ]
    },
    {
      "cell_type": "markdown",
      "metadata": {
        "id": "xhGBYMYilWfK"
      },
      "source": [
        "### vectors"
      ]
    },
    {
      "cell_type": "code",
      "metadata": {
        "id": "PaTi7G1Ii9rl"
      },
      "source": [
        "sentences = []\n",
        "for text in df['sentences']:\n",
        "  sentences.append(text.split())"
      ],
      "execution_count": null,
      "outputs": []
    },
    {
      "cell_type": "code",
      "metadata": {
        "id": "VkkNbiqHFbV9"
      },
      "source": [
        "w2v_model = gensim.models.Word2Vec(sentences, size=300, window=5, min_count=10)\n",
        "w2v_model.save('word2vec.model')"
      ],
      "execution_count": null,
      "outputs": []
    },
    {
      "cell_type": "code",
      "metadata": {
        "colab": {
          "base_uri": "https://localhost:8080/"
        },
        "id": "25eoeP0-I9IY",
        "outputId": "038273f6-3230-455f-d6bf-b68dbb658f37"
      },
      "source": [
        "w2v_weights = w2v_model.wv.vectors\n",
        "vocab_size, embedding_size = w2v_weights.shape\n",
        "print(f'Vocabulary Size: {vocab_size} - Embedding Dim: {embedding_size}')"
      ],
      "execution_count": null,
      "outputs": [
        {
          "output_type": "stream",
          "name": "stdout",
          "text": [
            "Vocabulary Size: 24034 - Embedding Dim: 300\n"
          ]
        }
      ]
    },
    {
      "cell_type": "code",
      "metadata": {
        "id": "D29GMXcRJ_sN"
      },
      "source": [
        "MAX_SEQUENCE_LENGTH = 200\n",
        "corpus = []\n",
        "\n",
        "for sentence in sentences:\n",
        "  sentence_vect = []\n",
        "  for word in sentence[:MAX_SEQUENCE_LENGTH]:\n",
        "    try: sentence_vect.append(w2v_model.wv.vocab[word].index)\n",
        "    except: sentence_vect.append(0)\n",
        "  corpus.append(sentence_vect)\n",
        "\n",
        "corpus = pad_sequences(corpus, maxlen=MAX_SEQUENCE_LENGTH, padding='post', value=0)"
      ],
      "execution_count": null,
      "outputs": []
    },
    {
      "cell_type": "code",
      "metadata": {
        "id": "RldF3FWELxnq"
      },
      "source": [
        "x_train_w2v = corpus[train_ind]\n",
        "x_test_w2v = corpus[test_ind]"
      ],
      "execution_count": null,
      "outputs": []
    },
    {
      "cell_type": "markdown",
      "metadata": {
        "id": "6w92399DmQYj"
      },
      "source": [
        "### model overall"
      ]
    },
    {
      "cell_type": "code",
      "metadata": {
        "id": "VSfqCzr7mS7V"
      },
      "source": [
        "EPOCHS     = 20\n",
        "BATCH_SIZE = 512"
      ],
      "execution_count": null,
      "outputs": []
    },
    {
      "cell_type": "markdown",
      "metadata": {
        "id": "E7kxdFw7lo9r"
      },
      "source": [
        "### sentiment prediction"
      ]
    },
    {
      "cell_type": "code",
      "metadata": {
        "id": "l4NNPXYllroQ"
      },
      "source": [
        "CATEGORIES_SENT = 2"
      ],
      "execution_count": null,
      "outputs": []
    },
    {
      "cell_type": "code",
      "metadata": {
        "id": "qWvNE4ZQls23"
      },
      "source": [
        "model_sent = Sequential()\n",
        "\n",
        "model_sent.add(Embedding(input_dim=vocab_size,\n",
        "                        output_dim=embedding_size,\n",
        "                        weights=[w2v_weights],\n",
        "                        input_length=MAX_SEQUENCE_LENGTH,\n",
        "                        mask_zero=True,\n",
        "                        trainable=False))\n",
        "model_sent.add(Bidirectional(LSTM(100)))\n",
        "model_sent.add(Dense(32, activation='relu'))\n",
        "model_sent.add(Dropout(0.2))\n",
        "model_sent.add(Dense(CATEGORIES_SENT, activation='softmax'))"
      ],
      "execution_count": null,
      "outputs": []
    },
    {
      "cell_type": "code",
      "metadata": {
        "id": "CS5P5rFml50q"
      },
      "source": [
        "model_sent.compile(optimizer=optimizers.Adam(), loss='sparse_categorical_crossentropy', metrics=['accuracy'])\n",
        "\n",
        "checkpoint = ModelCheckpoint('model_sent.hdf5', monitor=['val_loss'], verbose=1, mode='max')\n",
        "earlystop = EarlyStopping(monitor='val_loss', patience=5, restore_best_weights=True)\n",
        "callbacks_list_sent = [checkpoint, earlystop]"
      ],
      "execution_count": null,
      "outputs": []
    },
    {
      "cell_type": "code",
      "metadata": {
        "colab": {
          "base_uri": "https://localhost:8080/"
        },
        "id": "5P_JFYsKmE_f",
        "outputId": "e3795270-c36b-4857-8916-6c9a7be33101"
      },
      "source": [
        "history = model_sent.fit(x_train_w2v,\n",
        "                         y_train_sent,\n",
        "                         epochs=EPOCHS,\n",
        "                         batch_size=BATCH_SIZE,\n",
        "                         validation_data=(x_test_w2v, y_test_sent),\n",
        "                         callbacks = callbacks_list_sent,\n",
        "                         verbose=1)\n",
        "\n",
        "model_sent.save('best_model_sent.hdf5')\n",
        "model_sent.load_weights('best_model_sent.hdf5')\n",
        "\n",
        "!rm model_sent.hdf5"
      ],
      "execution_count": null,
      "outputs": [
        {
          "output_type": "stream",
          "name": "stdout",
          "text": [
            "Epoch 1/20\n",
            "69/69 [==============================] - 171s 2s/step - loss: 0.4389 - accuracy: 0.7908 - val_loss: 0.3465 - val_accuracy: 0.8489\n",
            "\n",
            "Epoch 00001: saving model to model_sent.hdf5\n",
            "Epoch 2/20\n",
            "69/69 [==============================] - 107s 2s/step - loss: 0.3341 - accuracy: 0.8563 - val_loss: 0.3584 - val_accuracy: 0.8423\n",
            "\n",
            "Epoch 00002: saving model to model_sent.hdf5\n",
            "Epoch 3/20\n",
            "69/69 [==============================] - 107s 2s/step - loss: 0.2938 - accuracy: 0.8765 - val_loss: 0.3121 - val_accuracy: 0.8681\n",
            "\n",
            "Epoch 00003: saving model to model_sent.hdf5\n",
            "Epoch 4/20\n",
            "69/69 [==============================] - 109s 2s/step - loss: 0.2724 - accuracy: 0.8851 - val_loss: 0.3054 - val_accuracy: 0.8711\n",
            "\n",
            "Epoch 00004: saving model to model_sent.hdf5\n",
            "Epoch 5/20\n",
            "69/69 [==============================] - 106s 2s/step - loss: 0.2506 - accuracy: 0.8954 - val_loss: 0.3063 - val_accuracy: 0.8742\n",
            "\n",
            "Epoch 00005: saving model to model_sent.hdf5\n",
            "Epoch 6/20\n",
            "69/69 [==============================] - 107s 2s/step - loss: 0.2196 - accuracy: 0.9107 - val_loss: 0.3047 - val_accuracy: 0.8734\n",
            "\n",
            "Epoch 00006: saving model to model_sent.hdf5\n",
            "Epoch 7/20\n",
            "69/69 [==============================] - 108s 2s/step - loss: 0.1956 - accuracy: 0.9218 - val_loss: 0.3225 - val_accuracy: 0.8749\n",
            "\n",
            "Epoch 00007: saving model to model_sent.hdf5\n",
            "Epoch 8/20\n",
            "69/69 [==============================] - 109s 2s/step - loss: 0.1721 - accuracy: 0.9315 - val_loss: 0.3312 - val_accuracy: 0.8675\n",
            "\n",
            "Epoch 00008: saving model to model_sent.hdf5\n",
            "Epoch 9/20\n",
            "69/69 [==============================] - 110s 2s/step - loss: 0.1409 - accuracy: 0.9451 - val_loss: 0.3737 - val_accuracy: 0.8652\n",
            "\n",
            "Epoch 00009: saving model to model_sent.hdf5\n",
            "Epoch 10/20\n",
            "69/69 [==============================] - 104s 2s/step - loss: 0.1135 - accuracy: 0.9574 - val_loss: 0.4346 - val_accuracy: 0.8655\n",
            "\n",
            "Epoch 00010: saving model to model_sent.hdf5\n",
            "Epoch 11/20\n",
            "69/69 [==============================] - 104s 2s/step - loss: 0.0847 - accuracy: 0.9689 - val_loss: 0.4539 - val_accuracy: 0.8694\n",
            "\n",
            "Epoch 00011: saving model to model_sent.hdf5\n"
          ]
        }
      ]
    },
    {
      "cell_type": "code",
      "metadata": {
        "colab": {
          "base_uri": "https://localhost:8080/",
          "height": 545
        },
        "id": "vB-GGXDDnChu",
        "outputId": "5d63ebc3-7f69-4c41-8920-180b27ca653a"
      },
      "source": [
        "plt.figure(figsize=(4, 4))\n",
        "plt.plot(history.history['loss'])\n",
        "plt.plot(history.history['val_loss'])\n",
        "plt.title('Loss')\n",
        "plt.legend(['train', 'test'], loc='upper left')\n",
        "plt.show()\n",
        "\n",
        "plt.figure(figsize=(4, 4))\n",
        "plt.plot(history.history['accuracy'])\n",
        "plt.plot(history.history['val_accuracy'])\n",
        "plt.title('Accuracy')\n",
        "plt.legend(['train', 'test'], loc='upper left')\n",
        "plt.show()"
      ],
      "execution_count": null,
      "outputs": [
        {
          "output_type": "display_data",
          "data": {
            "image/png": "[encoded data removed]",
            "text/plain": [
              "<Figure size 288x288 with 1 Axes>"
            ]
          },
          "metadata": {
            "needs_background": "light"
          }
        },
        {
          "output_type": "display_data",
          "data": {
            "image/png": "[encoded data removed]",
            "text/plain": [
              "<Figure size 288x288 with 1 Axes>"
            ]
          },
          "metadata": {
            "needs_background": "light"
          }
        }
      ]
    },
    {
      "cell_type": "code",
      "metadata": {
        "colab": {
          "base_uri": "https://localhost:8080/"
        },
        "id": "PzruDPHMnGJo",
        "outputId": "4c45cd48-bdd2-40ae-bc2c-91c0bb21caa7"
      },
      "source": [
        "pred_w2v = model_sent.predict(x_test_w2v, verbose=1)\n",
        "pred_w2v = np.argmax(pred_w2v, axis=-1)\n",
        "\n",
        "print('результаты тестовой выборки', '\\n', classification_report(y_test_sent, pred_w2v))"
      ],
      "execution_count": null,
      "outputs": [
        {
          "output_type": "stream",
          "name": "stdout",
          "text": [
            "469/469 [==============================] - 73s 150ms/step\n",
            "результаты тестовой выборки \n",
            "               precision    recall  f1-score   support\n",
            "\n",
            "           0       0.88      0.86      0.87      7526\n",
            "           1       0.87      0.88      0.87      7474\n",
            "\n",
            "    accuracy                           0.87     15000\n",
            "   macro avg       0.87      0.87      0.87     15000\n",
            "weighted avg       0.87      0.87      0.87     15000\n",
            "\n"
          ]
        }
      ]
    },
    {
      "cell_type": "markdown",
      "metadata": {
        "id": "zF9yJg1ilZJk"
      },
      "source": [
        "### score prediction"
      ]
    },
    {
      "cell_type": "code",
      "metadata": {
        "id": "g9w-8FoDp2jT"
      },
      "source": [
        "CATEGORIES_SCORE = 8\n",
        "\n",
        "category_dict = {k: v for v, k in enumerate(np.unique(df['score']))}\n",
        "category_dict_rev = {k: v for k, v in enumerate(np.unique(df['score']))}\n",
        "\n",
        "y_train_w2v = np.array([category_dict[y] for y in y_train_score])\n",
        "y_test_w2v = np.array([category_dict[y] for y in y_test_score])"
      ],
      "execution_count": null,
      "outputs": []
    },
    {
      "cell_type": "code",
      "metadata": {
        "id": "bi6k-QQoiokm"
      },
      "source": [
        "model_score = Sequential()\n",
        "\n",
        "model_score.add(Embedding(input_dim=vocab_size,\n",
        "                          output_dim=embedding_size,\n",
        "                          weights=[w2v_weights],\n",
        "                          input_length=MAX_SEQUENCE_LENGTH,\n",
        "                          mask_zero=True,\n",
        "                          trainable=False))\n",
        "model_score.add(Bidirectional(LSTM(100)))\n",
        "model_score.add(Dense(32, activation='relu'))\n",
        "model_score.add(Dropout(0.2))\n",
        "model_score.add(Dense(CATEGORIES_SCORE, activation='softmax'))"
      ],
      "execution_count": null,
      "outputs": []
    },
    {
      "cell_type": "code",
      "metadata": {
        "id": "p0Udk4piPSop"
      },
      "source": [
        "model_score.compile(optimizer=optimizers.Adam(), loss='sparse_categorical_crossentropy', metrics=['accuracy'])\n",
        "\n",
        "checkpoint = ModelCheckpoint('model_score.hdf5', monitor=['val_loss'], verbose=1, mode='max')\n",
        "earlystop = EarlyStopping(monitor='val_loss', patience=5, restore_best_weights=True)\n",
        "callbacks_list_score = [checkpoint, earlystop]"
      ],
      "execution_count": null,
      "outputs": []
    },
    {
      "cell_type": "code",
      "metadata": {
        "colab": {
          "base_uri": "https://localhost:8080/"
        },
        "id": "tbLym5DBi_Je",
        "outputId": "ad3c3364-ebf9-49f3-9553-01c92ed94530"
      },
      "source": [
        "history = model_score.fit(x_train_w2v,\n",
        "                          y_train_w2v,\n",
        "                          epochs=EPOCHS,\n",
        "                          batch_size=BATCH_SIZE,\n",
        "                          validation_data=(x_test_w2v, y_test_w2v),\n",
        "                          callbacks = callbacks_list_score,\n",
        "                          verbose=1)\n",
        "\n",
        "model_score.save('best_model_score.hdf5')\n",
        "model_score.load_weights('best_model_score.hdf5')\n",
        "\n",
        "!rm model_score.hdf5"
      ],
      "execution_count": null,
      "outputs": [
        {
          "output_type": "stream",
          "name": "stdout",
          "text": [
            "Epoch 1/20\n",
            "69/69 [==============================] - 116s 2s/step - loss: 1.7878 - accuracy: 0.3257 - val_loss: 1.5775 - val_accuracy: 0.3988\n",
            "\n",
            "Epoch 00001: saving model to model_score.hdf5\n",
            "Epoch 2/20\n",
            "69/69 [==============================] - 104s 2s/step - loss: 1.5719 - accuracy: 0.3960 - val_loss: 1.5246 - val_accuracy: 0.4087\n",
            "\n",
            "Epoch 00002: saving model to model_score.hdf5\n",
            "Epoch 3/20\n",
            "69/69 [==============================] - 106s 2s/step - loss: 1.5045 - accuracy: 0.4165 - val_loss: 1.5019 - val_accuracy: 0.4162\n",
            "\n",
            "Epoch 00003: saving model to model_score.hdf5\n",
            "Epoch 4/20\n",
            "69/69 [==============================] - 104s 2s/step - loss: 1.4535 - accuracy: 0.4345 - val_loss: 1.4831 - val_accuracy: 0.4197\n",
            "\n",
            "Epoch 00004: saving model to model_score.hdf5\n",
            "Epoch 5/20\n",
            "69/69 [==============================] - 106s 2s/step - loss: 1.4113 - accuracy: 0.4477 - val_loss: 1.4819 - val_accuracy: 0.4224\n",
            "\n",
            "Epoch 00005: saving model to model_score.hdf5\n",
            "Epoch 6/20\n",
            "69/69 [==============================] - 108s 2s/step - loss: 1.3716 - accuracy: 0.4641 - val_loss: 1.4724 - val_accuracy: 0.4294\n",
            "\n",
            "Epoch 00006: saving model to model_score.hdf5\n",
            "Epoch 7/20\n",
            "69/69 [==============================] - 105s 2s/step - loss: 1.3371 - accuracy: 0.4751 - val_loss: 1.4931 - val_accuracy: 0.4223\n",
            "\n",
            "Epoch 00007: saving model to model_score.hdf5\n",
            "Epoch 8/20\n",
            "69/69 [==============================] - 105s 2s/step - loss: 1.2974 - accuracy: 0.4905 - val_loss: 1.4945 - val_accuracy: 0.4147\n",
            "\n",
            "Epoch 00008: saving model to model_score.hdf5\n",
            "Epoch 9/20\n",
            "69/69 [==============================] - 105s 2s/step - loss: 1.2473 - accuracy: 0.5064 - val_loss: 1.5203 - val_accuracy: 0.4142\n",
            "\n",
            "Epoch 00009: saving model to model_score.hdf5\n",
            "Epoch 10/20\n",
            "69/69 [==============================] - 104s 2s/step - loss: 1.2041 - accuracy: 0.5239 - val_loss: 1.5380 - val_accuracy: 0.4125\n",
            "\n",
            "Epoch 00010: saving model to model_score.hdf5\n",
            "Epoch 11/20\n",
            "69/69 [==============================] - 104s 2s/step - loss: 1.1579 - accuracy: 0.5434 - val_loss: 1.5545 - val_accuracy: 0.4086\n",
            "\n",
            "Epoch 00011: saving model to model_score.hdf5\n"
          ]
        }
      ]
    },
    {
      "cell_type": "code",
      "metadata": {
        "colab": {
          "base_uri": "https://localhost:8080/",
          "height": 545
        },
        "id": "9Iw2ZvdoPvgH",
        "outputId": "302b4ef5-3c80-4411-ed2e-d2b422863e02"
      },
      "source": [
        "plt.figure(figsize=(4, 4))\n",
        "plt.plot(history.history['loss'])\n",
        "plt.plot(history.history['val_loss'])\n",
        "plt.title('Loss')\n",
        "plt.legend(['train', 'test'], loc='upper left')\n",
        "plt.show()\n",
        "\n",
        "plt.figure(figsize=(4, 4))\n",
        "plt.plot(history.history['accuracy'])\n",
        "plt.plot(history.history['val_accuracy'])\n",
        "plt.title('Accuracy')\n",
        "plt.legend(['train', 'test'], loc='upper left')\n",
        "plt.show()"
      ],
      "execution_count": null,
      "outputs": [
        {
          "output_type": "display_data",
          "data": {
            "image/png": "[encoded data removed]",
            "text/plain": [
              "<Figure size 288x288 with 1 Axes>"
            ]
          },
          "metadata": {
            "needs_background": "light"
          }
        },
        {
          "output_type": "display_data",
          "data": {
            "image/png": "[encoded data removed]",
            "text/plain": [
              "<Figure size 288x288 with 1 Axes>"
            ]
          },
          "metadata": {
            "needs_background": "light"
          }
        }
      ]
    },
    {
      "cell_type": "code",
      "metadata": {
        "colab": {
          "base_uri": "https://localhost:8080/"
        },
        "id": "TMx3nZ-fV1I1",
        "outputId": "71f8a254-76c8-4260-9792-309af183fce1"
      },
      "source": [
        "pred_w2v = model_score.predict(x_test_w2v, verbose=1)\n",
        "pred_w2v = np.argmax(pred_w2v, axis=-1)\n",
        "pred_w2v = [category_dict_rev[pred] for pred in pred_w2v]\n",
        "print('средняя абсолютная ошибка на тесте: ', mean_absolute_error(pred_w2v, y_test_score))\n",
        "\n",
        "pred_final = [*pred_score_arr, pred_w2v]\n",
        "pred_final = np.median(pred_final, axis=0)\n",
        "\n",
        "print('финальная средняя абсолютная ошибка на тесте: ', mean_absolute_error(pred_final, y_test_score))"
      ],
      "execution_count": null,
      "outputs": [
        {
          "output_type": "stream",
          "name": "stdout",
          "text": [
            "469/469 [==============================] - 72s 149ms/step\n",
            "средняя абсолютная ошибка на тесте:  1.4552666666666667\n",
            "финальная средняя абсолютная ошибка на тесте:  1.2882657851276642\n"
          ]
        }
      ]
    }
  ]
}